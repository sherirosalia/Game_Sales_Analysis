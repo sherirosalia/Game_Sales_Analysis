{
 "cells": [
  {
   "cell_type": "markdown",
   "metadata": {},
   "source": [
    "### Heroes Of Pymoli Data Analysis\n",
    "* Of the 1163 active players, the vast majority are male (84%). There also exists, a smaller, but notable proportion of female players (14%).\n",
    "\n",
    "* Our peak age demographic falls between 20-24 (44.8%) with secondary groups falling between 15-19 (18.60%) and 25-29 (13.4%).  \n",
    "-----"
   ]
  },
  {
   "cell_type": "markdown",
   "metadata": {},
   "source": [
    "### Note\n",
    "* Instructions have been included for each segment. You do not have to follow them exactly, but they are included to help you think through the steps."
   ]
  },
  {
   "cell_type": "code",
   "execution_count": 1,
   "metadata": {
    "scrolled": true
   },
   "outputs": [
    {
     "data": {
      "text/html": [
       "<div>\n",
       "<style scoped>\n",
       "    .dataframe tbody tr th:only-of-type {\n",
       "        vertical-align: middle;\n",
       "    }\n",
       "\n",
       "    .dataframe tbody tr th {\n",
       "        vertical-align: top;\n",
       "    }\n",
       "\n",
       "    .dataframe thead th {\n",
       "        text-align: right;\n",
       "    }\n",
       "</style>\n",
       "<table border=\"1\" class=\"dataframe\">\n",
       "  <thead>\n",
       "    <tr style=\"text-align: right;\">\n",
       "      <th></th>\n",
       "      <th>Purchase ID</th>\n",
       "      <th>SN</th>\n",
       "      <th>Age</th>\n",
       "      <th>Gender</th>\n",
       "      <th>Item ID</th>\n",
       "      <th>Item Name</th>\n",
       "      <th>Price</th>\n",
       "    </tr>\n",
       "  </thead>\n",
       "  <tbody>\n",
       "    <tr>\n",
       "      <th>0</th>\n",
       "      <td>0</td>\n",
       "      <td>Lisim78</td>\n",
       "      <td>20</td>\n",
       "      <td>Male</td>\n",
       "      <td>108</td>\n",
       "      <td>Extraction, Quickblade Of Trembling Hands</td>\n",
       "      <td>3.53</td>\n",
       "    </tr>\n",
       "    <tr>\n",
       "      <th>1</th>\n",
       "      <td>1</td>\n",
       "      <td>Lisovynya38</td>\n",
       "      <td>40</td>\n",
       "      <td>Male</td>\n",
       "      <td>143</td>\n",
       "      <td>Frenzied Scimitar</td>\n",
       "      <td>1.56</td>\n",
       "    </tr>\n",
       "    <tr>\n",
       "      <th>2</th>\n",
       "      <td>2</td>\n",
       "      <td>Ithergue48</td>\n",
       "      <td>24</td>\n",
       "      <td>Male</td>\n",
       "      <td>92</td>\n",
       "      <td>Final Critic</td>\n",
       "      <td>4.88</td>\n",
       "    </tr>\n",
       "    <tr>\n",
       "      <th>3</th>\n",
       "      <td>3</td>\n",
       "      <td>Chamassasya86</td>\n",
       "      <td>24</td>\n",
       "      <td>Male</td>\n",
       "      <td>100</td>\n",
       "      <td>Blindscythe</td>\n",
       "      <td>3.27</td>\n",
       "    </tr>\n",
       "    <tr>\n",
       "      <th>4</th>\n",
       "      <td>4</td>\n",
       "      <td>Iskosia90</td>\n",
       "      <td>23</td>\n",
       "      <td>Male</td>\n",
       "      <td>131</td>\n",
       "      <td>Fury</td>\n",
       "      <td>1.44</td>\n",
       "    </tr>\n",
       "    <tr>\n",
       "      <th>5</th>\n",
       "      <td>5</td>\n",
       "      <td>Yalae81</td>\n",
       "      <td>22</td>\n",
       "      <td>Male</td>\n",
       "      <td>81</td>\n",
       "      <td>Dreamkiss</td>\n",
       "      <td>3.61</td>\n",
       "    </tr>\n",
       "    <tr>\n",
       "      <th>6</th>\n",
       "      <td>6</td>\n",
       "      <td>Itheria73</td>\n",
       "      <td>36</td>\n",
       "      <td>Male</td>\n",
       "      <td>169</td>\n",
       "      <td>Interrogator, Blood Blade of the Queen</td>\n",
       "      <td>2.18</td>\n",
       "    </tr>\n",
       "    <tr>\n",
       "      <th>7</th>\n",
       "      <td>7</td>\n",
       "      <td>Iskjaskst81</td>\n",
       "      <td>20</td>\n",
       "      <td>Male</td>\n",
       "      <td>162</td>\n",
       "      <td>Abyssal Shard</td>\n",
       "      <td>2.67</td>\n",
       "    </tr>\n",
       "    <tr>\n",
       "      <th>8</th>\n",
       "      <td>8</td>\n",
       "      <td>Undjask33</td>\n",
       "      <td>22</td>\n",
       "      <td>Male</td>\n",
       "      <td>21</td>\n",
       "      <td>Souleater</td>\n",
       "      <td>1.10</td>\n",
       "    </tr>\n",
       "    <tr>\n",
       "      <th>9</th>\n",
       "      <td>9</td>\n",
       "      <td>Chanosian48</td>\n",
       "      <td>35</td>\n",
       "      <td>Other / Non-Disclosed</td>\n",
       "      <td>136</td>\n",
       "      <td>Ghastly Adamantite Protector</td>\n",
       "      <td>3.58</td>\n",
       "    </tr>\n",
       "  </tbody>\n",
       "</table>\n",
       "</div>"
      ],
      "text/plain": [
       "   Purchase ID             SN  Age                 Gender  Item ID  \\\n",
       "0            0        Lisim78   20                   Male      108   \n",
       "1            1    Lisovynya38   40                   Male      143   \n",
       "2            2     Ithergue48   24                   Male       92   \n",
       "3            3  Chamassasya86   24                   Male      100   \n",
       "4            4      Iskosia90   23                   Male      131   \n",
       "5            5        Yalae81   22                   Male       81   \n",
       "6            6      Itheria73   36                   Male      169   \n",
       "7            7    Iskjaskst81   20                   Male      162   \n",
       "8            8      Undjask33   22                   Male       21   \n",
       "9            9    Chanosian48   35  Other / Non-Disclosed      136   \n",
       "\n",
       "                                   Item Name  Price  \n",
       "0  Extraction, Quickblade Of Trembling Hands   3.53  \n",
       "1                          Frenzied Scimitar   1.56  \n",
       "2                               Final Critic   4.88  \n",
       "3                                Blindscythe   3.27  \n",
       "4                                       Fury   1.44  \n",
       "5                                  Dreamkiss   3.61  \n",
       "6     Interrogator, Blood Blade of the Queen   2.18  \n",
       "7                              Abyssal Shard   2.67  \n",
       "8                                  Souleater   1.10  \n",
       "9               Ghastly Adamantite Protector   3.58  "
      ]
     },
     "execution_count": 1,
     "metadata": {},
     "output_type": "execute_result"
    }
   ],
   "source": [
    "# Dependencies and Setup\n",
    "import pandas as pd\n",
    "import numpy as np\n",
    "\n",
    "# File to Load (Remember to Change These)\n",
    "data_csv = 'Resources/purchase_data.csv'\n",
    "\n",
    "# Read Purchasing File and store into Pandas data frame\n",
    "purchase_df = pd.read_csv('Resources/purchase_data.csv')\n",
    "purchase_df.head(10)\n"
   ]
  },
  {
   "cell_type": "markdown",
   "metadata": {},
   "source": [
    "## Player Count"
   ]
  },
  {
   "cell_type": "markdown",
   "metadata": {},
   "source": [
    "* Display the total number of players\n"
   ]
  },
  {
   "cell_type": "code",
   "execution_count": 2,
   "metadata": {},
   "outputs": [
    {
     "name": "stdout",
     "output_type": "stream",
     "text": [
      "The total number of players is 576.\n"
     ]
    },
    {
     "data": {
      "text/html": [
       "<div>\n",
       "<style scoped>\n",
       "    .dataframe tbody tr th:only-of-type {\n",
       "        vertical-align: middle;\n",
       "    }\n",
       "\n",
       "    .dataframe tbody tr th {\n",
       "        vertical-align: top;\n",
       "    }\n",
       "\n",
       "    .dataframe thead th {\n",
       "        text-align: right;\n",
       "    }\n",
       "</style>\n",
       "<table border=\"1\" class=\"dataframe\">\n",
       "  <thead>\n",
       "    <tr style=\"text-align: right;\">\n",
       "      <th></th>\n",
       "      <th>Player Total</th>\n",
       "    </tr>\n",
       "  </thead>\n",
       "  <tbody>\n",
       "    <tr>\n",
       "      <th>0</th>\n",
       "      <td>576</td>\n",
       "    </tr>\n",
       "  </tbody>\n",
       "</table>\n",
       "</div>"
      ],
      "text/plain": [
       "   Player Total\n",
       "0           576"
      ]
     },
     "execution_count": 2,
     "metadata": {},
     "output_type": "execute_result"
    }
   ],
   "source": [
    "PlayerSum = purchase_df[\"SN\"].drop_duplicates()\n",
    "PlayerSum = PlayerSum.count()\n",
    "\n",
    "print(f'The total number of players is {PlayerSum}.')\n",
    "\n",
    "pd.DataFrame({'Player Total': [PlayerSum]})"
   ]
  },
  {
   "cell_type": "markdown",
   "metadata": {},
   "source": [
    "## Purchasing Analysis (Total)"
   ]
  },
  {
   "cell_type": "markdown",
   "metadata": {},
   "source": [
    "* Run basic calculations to obtain number of unique items, average price, etc.\n",
    "\n",
    "\n",
    "* Create a summary data frame to hold the results\n",
    "\n",
    "\n",
    "* Optional: give the displayed data cleaner formatting\n",
    "\n",
    "\n",
    "* Display the summary data frame\n"
   ]
  },
  {
   "cell_type": "code",
   "execution_count": 3,
   "metadata": {
    "scrolled": true
   },
   "outputs": [
    {
     "name": "stdout",
     "output_type": "stream",
     "text": [
      "The total number of unique itemes is: 183\n",
      "The average sales price is: 3.05\n"
     ]
    },
    {
     "data": {
      "text/html": [
       "<div>\n",
       "<style scoped>\n",
       "    .dataframe tbody tr th:only-of-type {\n",
       "        vertical-align: middle;\n",
       "    }\n",
       "\n",
       "    .dataframe tbody tr th {\n",
       "        vertical-align: top;\n",
       "    }\n",
       "\n",
       "    .dataframe thead th {\n",
       "        text-align: right;\n",
       "    }\n",
       "</style>\n",
       "<table border=\"1\" class=\"dataframe\">\n",
       "  <thead>\n",
       "    <tr style=\"text-align: right;\">\n",
       "      <th></th>\n",
       "      <th>Average Price</th>\n",
       "      <th>Number Sold</th>\n",
       "      <th>Total Revenue</th>\n",
       "      <th>Unique Item Count</th>\n",
       "    </tr>\n",
       "  </thead>\n",
       "  <tbody>\n",
       "    <tr>\n",
       "      <th>0</th>\n",
       "      <td>3.05</td>\n",
       "      <td>780</td>\n",
       "      <td>2379.77</td>\n",
       "      <td>183</td>\n",
       "    </tr>\n",
       "  </tbody>\n",
       "</table>\n",
       "</div>"
      ],
      "text/plain": [
       "   Average Price  Number Sold  Total Revenue  Unique Item Count\n",
       "0           3.05          780        2379.77                183"
      ]
     },
     "execution_count": 3,
     "metadata": {},
     "output_type": "execute_result"
    }
   ],
   "source": [
    "#Run basic calculations to obtain number of unique items, average price, etc.\n",
    "#unique items\n",
    "item_count_id = len(purchase_df['Item ID'].unique())\n",
    "print(f'The total number of unique itemes is: {item_count_id}')\n",
    "\n",
    "\n",
    "#total sales\n",
    "total_sales = sum(purchase_df['Price'])\n",
    "\n",
    "#total items sold\n",
    "total_sold = len(purchase_df['Item Name'])\n",
    "\n",
    "\n",
    "#average price\n",
    "average_price = round(purchase_df['Price'].mean() ,2)\n",
    "\n",
    "\n",
    "print(f'The average sales price is: {average_price}')\n",
    "pd.DataFrame({'Number Sold': [total_sold], 'Total Revenue': total_sales, 'Unique Item Count': [item_count_id], 'Average Price': [average_price]})"
   ]
  },
  {
   "cell_type": "raw",
   "metadata": {},
   "source": []
  },
  {
   "cell_type": "code",
   "execution_count": null,
   "metadata": {},
   "outputs": [],
   "source": []
  },
  {
   "cell_type": "markdown",
   "metadata": {},
   "source": [
    "## Gender Demographics"
   ]
  },
  {
   "cell_type": "markdown",
   "metadata": {},
   "source": [
    "* Percentage and Count of Male Players\n",
    "\n",
    "\n",
    "* Percentage and Count of Female Players\n",
    "\n",
    "\n",
    "* Percentage and Count of Other / Non-Disclosed\n",
    "\n",
    "\n"
   ]
  },
  {
   "cell_type": "code",
   "execution_count": 4,
   "metadata": {},
   "outputs": [
    {
     "name": "stdout",
     "output_type": "stream",
     "text": [
      "Total number of genders claimed in survey are: 3\n",
      "Male                     484\n",
      "Female                    81\n",
      "Other / Non-Disclosed     11\n",
      "Name: Gender, dtype: int64\n",
      "484\n",
      "81\n",
      "11\n",
      "84.03\n",
      "14.06\n",
      "1.91\n",
      "{'Total Count': [484, 81, 11], 'Percentage of Players': [84.03, 14.06, 1.91]}\n"
     ]
    },
    {
     "data": {
      "text/html": [
       "<div>\n",
       "<style scoped>\n",
       "    .dataframe tbody tr th:only-of-type {\n",
       "        vertical-align: middle;\n",
       "    }\n",
       "\n",
       "    .dataframe tbody tr th {\n",
       "        vertical-align: top;\n",
       "    }\n",
       "\n",
       "    .dataframe thead th {\n",
       "        text-align: right;\n",
       "    }\n",
       "</style>\n",
       "<table border=\"1\" class=\"dataframe\">\n",
       "  <thead>\n",
       "    <tr style=\"text-align: right;\">\n",
       "      <th></th>\n",
       "      <th>Total Count</th>\n",
       "      <th>Percentage of Players</th>\n",
       "    </tr>\n",
       "  </thead>\n",
       "  <tbody>\n",
       "    <tr>\n",
       "      <th>Male</th>\n",
       "      <td>484</td>\n",
       "      <td>84.03</td>\n",
       "    </tr>\n",
       "    <tr>\n",
       "      <th>Female</th>\n",
       "      <td>81</td>\n",
       "      <td>14.06</td>\n",
       "    </tr>\n",
       "    <tr>\n",
       "      <th>Other</th>\n",
       "      <td>11</td>\n",
       "      <td>1.91</td>\n",
       "    </tr>\n",
       "  </tbody>\n",
       "</table>\n",
       "</div>"
      ],
      "text/plain": [
       "        Total Count  Percentage of Players\n",
       "Male            484                  84.03\n",
       "Female           81                  14.06\n",
       "Other            11                   1.91"
      ]
     },
     "execution_count": 4,
     "metadata": {},
     "output_type": "execute_result"
    }
   ],
   "source": [
    "\n",
    "Genders = len(purchase_df [\"Gender\"].unique())\n",
    "\n",
    "print(f'Total number of genders claimed in survey are: {Genders}')\n",
    "\n",
    "Grouped = purchase_df[[\"SN\", \"Gender\"]]\n",
    "Grouped = Grouped.drop_duplicates()\n",
    "Counts = Grouped[\"Gender\"].value_counts()\n",
    "print(Counts)\n",
    "#Gender_Counts = [Counts[0], Counts[1], Counts[2]]\n",
    "#print(Gender_Counts)\n",
    "\n",
    "Male_Count = Counts[0]\n",
    "print(Male_Count)\n",
    "Female_Count = Counts[1]\n",
    "print(Female_Count)\n",
    "Other_Count = Counts[2]\n",
    "print(Other_Count)\n",
    "\n",
    "\n",
    "Male_Percent = round((Male_Count/PlayerSum) * 100, 2)\n",
    "print(Male_Percent)\n",
    "\n",
    "Female_Percent = round((Female_Count/PlayerSum) * 100, 2) \n",
    "print(Female_Percent)\n",
    "\n",
    "Other_Percent = round((Other_Count/PlayerSum) * 100, 2)\n",
    "print(Other_Percent)\n",
    "\n",
    "gender_dictionary = {\n",
    "    \"Total Count\": [Male_Count, Female_Count, Other_Count],\n",
    "    \"Percentage of Players\" : [Male_Percent, Female_Percent, Other_Percent]\n",
    "}\n",
    "print(gender_dictionary)\n",
    "\n",
    "gender_df = pd.DataFrame(gender_dictionary, columns = ['Total Count', 'Percentage of Players'],\n",
    "                        index = ['Male', 'Female', 'Other'])\n",
    "gender_df\n",
    "\n"
   ]
  },
  {
   "cell_type": "markdown",
   "metadata": {},
   "source": [
    "\n",
    "## Purchasing Analysis (Gender)"
   ]
  },
  {
   "cell_type": "markdown",
   "metadata": {},
   "source": [
    "* Run basic calculations to obtain purchase count, avg. purchase price, avg. purchase total per person etc. by gender\n",
    "\n",
    "\n",
    "\n",
    "\n",
    "* Create a summary data frame to hold the results\n",
    "\n",
    "\n",
    "* Optional: give the displayed data cleaner formatting\n",
    "\n",
    "\n",
    "* Display the summary data frame"
   ]
  },
  {
   "cell_type": "code",
   "execution_count": null,
   "metadata": {},
   "outputs": [],
   "source": []
  },
  {
   "cell_type": "code",
   "execution_count": 5,
   "metadata": {},
   "outputs": [
    {
     "name": "stdout",
     "output_type": "stream",
     "text": [
      "2379.77\n"
     ]
    }
   ],
   "source": [
    "\n",
    "total_sales = sum(purchase_df['Price'])\n",
    "total_sales = round((total_sales), 2)\n",
    "print(total_sales)  #double checking myself\n",
    "\n",
    "\n"
   ]
  },
  {
   "cell_type": "code",
   "execution_count": 6,
   "metadata": {},
   "outputs": [
    {
     "name": "stdout",
     "output_type": "stream",
     "text": [
      "Male                     652\n",
      "Female                   113\n",
      "Other / Non-Disclosed     15\n",
      "Name: Gender, dtype: int64\n",
      "2379.77\n",
      "652\n",
      "113\n",
      "15\n",
      "Gender\n",
      "Female                    361.94\n",
      "Male                     1967.64\n",
      "Other / Non-Disclosed      50.19\n",
      "Name: Price, dtype: float64\n",
      "Gender\n",
      "Female                   4.90\n",
      "Male                     4.99\n",
      "Other / Non-Disclosed    4.75\n",
      "Name: Price, dtype: float64\n",
      "Gender\n",
      "Female                   1.00\n",
      "Male                     1.00\n",
      "Other / Non-Disclosed    1.33\n",
      "Name: Price, dtype: float64\n",
      "Gender\n",
      "Female                   3.203009\n",
      "Male                     3.017853\n",
      "Other / Non-Disclosed    3.346000\n",
      "Name: Price, dtype: float64\n",
      "3.02\n",
      "3.2\n",
      "3.35\n"
     ]
    }
   ],
   "source": [
    "#gender sales grouping\n",
    "\n",
    "Gender_Sales_Grouped = purchase_df[[\"SN\", \"Gender\", \"Price\"]]\n",
    "Grouped_Counts = Gender_Sales_Grouped[\"Gender\"].value_counts()\n",
    "Grouped_Sales = Gender_Sales_Grouped[\"Price\"].sum()\n",
    "print(Grouped_Counts)\n",
    "print(Grouped_Sales)\n",
    "\n",
    "Male_Sales_Count = Grouped_Counts[0]\n",
    "print(Male_Sales_Count)\n",
    "\n",
    "Female_Sales_Count = Grouped_Counts[1]\n",
    "print(Female_Sales_Count)\n",
    "\n",
    "Other_Sales_Count = Grouped_Counts[2]\n",
    "print(Other_Sales_Count)\n",
    "\n",
    "Gender_Sales_Grouped = Gender_Sales_Grouped.groupby('Gender')\n",
    "#gender_spend = Gender_Sales_Grouped.sum()\n",
    "gender_spend = purchase_df.groupby('Gender')['Price'].sum()\n",
    "print(gender_spend)  # price name in printed results is total spent by gender\n",
    "\n",
    "max_cost_by_gender = purchase_df.groupby('Gender')['Price'].max()\n",
    "min_cost_by_gender = purchase_df.groupby('Gender')['Price'].min()\n",
    "avg_cost_by_gender = purchase_df.groupby('Gender')['Price'].mean()\n",
    "print(max_cost_by_gender)\n",
    "print(min_cost_by_gender)\n",
    "print(avg_cost_by_gender)\n",
    "\n",
    "#male, female and other average spend\n",
    "MAS = gender_spend.Male / Male_Sales_Count\n",
    "MAS = round((MAS), 2)\n",
    "print(MAS)\n",
    "\n",
    "FAS = gender_spend.Female / Female_Sales_Count\n",
    "FAS = round((FAS), 2)\n",
    "print(FAS)\n",
    "\n",
    "OAS = gender_spend[\"Other / Non-Disclosed\"] / Other_Sales_Count\n",
    "OAS = round((OAS), 2)\n",
    "print(OAS)\n",
    "\n",
    "\n",
    "\n"
   ]
  },
  {
   "cell_type": "code",
   "execution_count": 7,
   "metadata": {},
   "outputs": [
    {
     "name": "stdout",
     "output_type": "stream",
     "text": [
      "1967.64\n",
      "361.94\n",
      "50.19\n"
     ]
    }
   ],
   "source": [
    "#Sum of Sales by Gender\n",
    "#gender_spend\n",
    "#total sales by gender\n",
    "Male_Sum = gender_spend.Male\n",
    "Male_Sum = round((Male_Sum), 2)\n",
    "print(Male_Sum)\n",
    "\n",
    "Female_Sum = gender_spend.Female\n",
    "Female_Sum = round((Female_Sum), 2)\n",
    "print(Female_Sum)\n",
    "\n",
    "Other_Sum = gender_spend[\"Other / Non-Disclosed\"]\n",
    "Other_Sum = round((Other_Sum), 2)\n",
    "print(Other_Sum)\n",
    "\n"
   ]
  },
  {
   "cell_type": "code",
   "execution_count": null,
   "metadata": {
    "scrolled": true
   },
   "outputs": [],
   "source": [
    "\n"
   ]
  },
  {
   "cell_type": "code",
   "execution_count": 8,
   "metadata": {},
   "outputs": [
    {
     "name": "stdout",
     "output_type": "stream",
     "text": [
      "0.83\n",
      "0.15\n",
      "0.02\n"
     ]
    }
   ],
   "source": [
    "#Percent spent by gender\n",
    "\n",
    "#male, female and other percent of total sales \n",
    "MP = Male_Sum / total_sales\n",
    "MP = round((MP), 2)\n",
    "print(MP)\n",
    "\n",
    "FP = Female_Sum / total_sales\n",
    "FP = round((FP), 2)\n",
    "print(FP)\n",
    "\n",
    "OP = Other_Sum / total_sales\n",
    "OP = round((OP), 2)\n",
    "print(OP)\n",
    "\n"
   ]
  },
  {
   "cell_type": "code",
   "execution_count": 9,
   "metadata": {},
   "outputs": [
    {
     "name": "stdout",
     "output_type": "stream",
     "text": [
      "{'Total Count': [484, 81, 11], 'Average Spending by Gender': [3.02, 3.2, 3.35], 'Sum of Sales by Gender': [1967.64, 361.94, 50.19], 'Percent of Total Sales/Gender': [0.83, 0.15, 0.02]}\n"
     ]
    }
   ],
   "source": [
    "Gender_Spending_List_Dictionary  = {\n",
    "    \"Total Count\": [Male_Count, Female_Count, Other_Count],\n",
    "    \"Average Spending by Gender\" : [MAS, FAS, OAS],\n",
    "    \"Sum of Sales by Gender\" : [Male_Sum, Female_Sum, Other_Sum],\n",
    "    \"Percent of Total Sales/Gender\" : [MP, FP, OP]\n",
    "}\n",
    "print(Gender_Spending_List_Dictionary)\n",
    "\n",
    "\n"
   ]
  },
  {
   "cell_type": "code",
   "execution_count": null,
   "metadata": {},
   "outputs": [],
   "source": []
  },
  {
   "cell_type": "code",
   "execution_count": 10,
   "metadata": {},
   "outputs": [
    {
     "data": {
      "text/html": [
       "<div>\n",
       "<style scoped>\n",
       "    .dataframe tbody tr th:only-of-type {\n",
       "        vertical-align: middle;\n",
       "    }\n",
       "\n",
       "    .dataframe tbody tr th {\n",
       "        vertical-align: top;\n",
       "    }\n",
       "\n",
       "    .dataframe thead th {\n",
       "        text-align: right;\n",
       "    }\n",
       "</style>\n",
       "<table border=\"1\" class=\"dataframe\">\n",
       "  <thead>\n",
       "    <tr style=\"text-align: right;\">\n",
       "      <th></th>\n",
       "      <th>Average Spending by Gender</th>\n",
       "      <th>Percent of Total Sales/Gender</th>\n",
       "      <th>Sum of Sales by Gender</th>\n",
       "      <th>Total Count</th>\n",
       "    </tr>\n",
       "  </thead>\n",
       "  <tbody>\n",
       "    <tr>\n",
       "      <th>0</th>\n",
       "      <td>3.02</td>\n",
       "      <td>0.83</td>\n",
       "      <td>1967.64</td>\n",
       "      <td>484</td>\n",
       "    </tr>\n",
       "    <tr>\n",
       "      <th>1</th>\n",
       "      <td>3.20</td>\n",
       "      <td>0.15</td>\n",
       "      <td>361.94</td>\n",
       "      <td>81</td>\n",
       "    </tr>\n",
       "    <tr>\n",
       "      <th>2</th>\n",
       "      <td>3.35</td>\n",
       "      <td>0.02</td>\n",
       "      <td>50.19</td>\n",
       "      <td>11</td>\n",
       "    </tr>\n",
       "  </tbody>\n",
       "</table>\n",
       "</div>"
      ],
      "text/plain": [
       "   Average Spending by Gender  Percent of Total Sales/Gender  \\\n",
       "0                        3.02                           0.83   \n",
       "1                        3.20                           0.15   \n",
       "2                        3.35                           0.02   \n",
       "\n",
       "   Sum of Sales by Gender  Total Count  \n",
       "0                 1967.64          484  \n",
       "1                  361.94           81  \n",
       "2                   50.19           11  "
      ]
     },
     "execution_count": 10,
     "metadata": {},
     "output_type": "execute_result"
    }
   ],
   "source": [
    "Gender_Spending_df = pd.DataFrame(Gender_Spending_List_Dictionary)\n",
    "\n",
    "Gender_Spending_df\n",
    "\n",
    "\n",
    "\n",
    "\n"
   ]
  },
  {
   "cell_type": "markdown",
   "metadata": {},
   "source": [
    "## Age Demographics"
   ]
  },
  {
   "cell_type": "markdown",
   "metadata": {},
   "source": [
    "* Establish bins for ages\n",
    "\n",
    "\n",
    "* Categorize the existing players using the age bins. Hint: use pd.cut()\n",
    "\n",
    "\n",
    "* Calculate the numbers and percentages by age group\n",
    "\n",
    "\n",
    "* Create a summary data frame to hold the results\n",
    "\n",
    "\n",
    "* Optional: round the percentage column to two decimal points\n",
    "\n",
    "\n",
    "* Display Age Demographics Table\n"
   ]
  },
  {
   "cell_type": "code",
   "execution_count": 27,
   "metadata": {},
   "outputs": [
    {
     "data": {
      "text/html": [
       "<div>\n",
       "<style scoped>\n",
       "    .dataframe tbody tr th:only-of-type {\n",
       "        vertical-align: middle;\n",
       "    }\n",
       "\n",
       "    .dataframe tbody tr th {\n",
       "        vertical-align: top;\n",
       "    }\n",
       "\n",
       "    .dataframe thead th {\n",
       "        text-align: right;\n",
       "    }\n",
       "</style>\n",
       "<table border=\"1\" class=\"dataframe\">\n",
       "  <thead>\n",
       "    <tr style=\"text-align: right;\">\n",
       "      <th></th>\n",
       "      <th>Count by Age</th>\n",
       "      <th>Percentage</th>\n",
       "    </tr>\n",
       "    <tr>\n",
       "      <th>Age_Group</th>\n",
       "      <th></th>\n",
       "      <th></th>\n",
       "    </tr>\n",
       "  </thead>\n",
       "  <tbody>\n",
       "    <tr>\n",
       "      <th>&lt;10</th>\n",
       "      <td>17</td>\n",
       "      <td>2.951389</td>\n",
       "    </tr>\n",
       "    <tr>\n",
       "      <th>10-14</th>\n",
       "      <td>22</td>\n",
       "      <td>3.819444</td>\n",
       "    </tr>\n",
       "    <tr>\n",
       "      <th>15-19</th>\n",
       "      <td>107</td>\n",
       "      <td>18.576389</td>\n",
       "    </tr>\n",
       "    <tr>\n",
       "      <th>20-24</th>\n",
       "      <td>258</td>\n",
       "      <td>44.791667</td>\n",
       "    </tr>\n",
       "    <tr>\n",
       "      <th>25-29</th>\n",
       "      <td>77</td>\n",
       "      <td>13.368056</td>\n",
       "    </tr>\n",
       "    <tr>\n",
       "      <th>30-34</th>\n",
       "      <td>52</td>\n",
       "      <td>9.027778</td>\n",
       "    </tr>\n",
       "    <tr>\n",
       "      <th>35-39</th>\n",
       "      <td>31</td>\n",
       "      <td>5.381944</td>\n",
       "    </tr>\n",
       "    <tr>\n",
       "      <th>40+</th>\n",
       "      <td>12</td>\n",
       "      <td>2.083333</td>\n",
       "    </tr>\n",
       "  </tbody>\n",
       "</table>\n",
       "</div>"
      ],
      "text/plain": [
       "           Count by Age  Percentage\n",
       "Age_Group                          \n",
       "<10                  17    2.951389\n",
       "10-14                22    3.819444\n",
       "15-19               107   18.576389\n",
       "20-24               258   44.791667\n",
       "25-29                77   13.368056\n",
       "30-34                52    9.027778\n",
       "35-39                31    5.381944\n",
       "40+                  12    2.083333"
      ]
     },
     "execution_count": 27,
     "metadata": {},
     "output_type": "execute_result"
    }
   ],
   "source": [
    "age_bins = [0, 9.90, 14.90, 19.90, 24.90, 29.90, 34.90, 39.90, 99999]\n",
    "group_names = [\"<10\", \"10-14\", \"15-19\", \"20-24\", \"25-29\", \"30-34\", \"35-39\", \"40+\"]\n",
    "\n",
    "\n",
    "purchase_df[\"Age_Group\"] = pd.cut(purchase_df[\"Age\"], age_bins, labels=group_names)\n",
    "Age_Purchase_df = purchase_df.groupby(\"Age_Group\")\n",
    "percentage = Age_Purchase_df[\"SN\"].nunique()/(Age_Purchase_df[\"SN\"].nunique()).sum() * 100\n",
    "\n",
    "percentage\n",
    "\n",
    "summarytable2 = pd.DataFrame({\"Percentage\":percentage,\"Count by Age\":Age_Purchase_df[\"SN\"].nunique()})\n",
    "\n",
    "summarytable2"
   ]
  },
  {
   "cell_type": "code",
   "execution_count": null,
   "metadata": {},
   "outputs": [],
   "source": []
  },
  {
   "cell_type": "code",
   "execution_count": null,
   "metadata": {},
   "outputs": [],
   "source": []
  },
  {
   "cell_type": "markdown",
   "metadata": {},
   "source": [
    "## Purchasing Analysis (Age)"
   ]
  },
  {
   "cell_type": "markdown",
   "metadata": {},
   "source": [
    "* Bin the purchase_data data frame by age\n",
    "\n",
    "\n",
    "* Run basic calculations to obtain purchase count, avg. purchase price, avg. purchase total per person etc. in the table below\n",
    "\n",
    "\n",
    "* Create a summary data frame to hold the results\n",
    "\n",
    "\n",
    "* Optional: give the displayed data cleaner formatting\n",
    "\n",
    "\n",
    "* Display the summary data frame"
   ]
  },
  {
   "cell_type": "code",
   "execution_count": 28,
   "metadata": {},
   "outputs": [
    {
     "data": {
      "text/html": [
       "<div>\n",
       "<style scoped>\n",
       "    .dataframe tbody tr th:only-of-type {\n",
       "        vertical-align: middle;\n",
       "    }\n",
       "\n",
       "    .dataframe tbody tr th {\n",
       "        vertical-align: top;\n",
       "    }\n",
       "\n",
       "    .dataframe thead th {\n",
       "        text-align: right;\n",
       "    }\n",
       "</style>\n",
       "<table border=\"1\" class=\"dataframe\">\n",
       "  <thead>\n",
       "    <tr style=\"text-align: right;\">\n",
       "      <th></th>\n",
       "      <th>Age Counts</th>\n",
       "      <th>Average Sales by Age</th>\n",
       "      <th>Sums by Age</th>\n",
       "    </tr>\n",
       "  </thead>\n",
       "  <tbody>\n",
       "    <tr>\n",
       "      <th>10-14</th>\n",
       "      <td>28</td>\n",
       "      <td>2.956429</td>\n",
       "      <td>82.78</td>\n",
       "    </tr>\n",
       "    <tr>\n",
       "      <th>15-19</th>\n",
       "      <td>136</td>\n",
       "      <td>3.035956</td>\n",
       "      <td>412.89</td>\n",
       "    </tr>\n",
       "    <tr>\n",
       "      <th>20-24</th>\n",
       "      <td>365</td>\n",
       "      <td>3.052219</td>\n",
       "      <td>1114.06</td>\n",
       "    </tr>\n",
       "    <tr>\n",
       "      <th>25-29</th>\n",
       "      <td>101</td>\n",
       "      <td>2.900990</td>\n",
       "      <td>293.00</td>\n",
       "    </tr>\n",
       "    <tr>\n",
       "      <th>30-34</th>\n",
       "      <td>73</td>\n",
       "      <td>2.931507</td>\n",
       "      <td>214.00</td>\n",
       "    </tr>\n",
       "  </tbody>\n",
       "</table>\n",
       "</div>"
      ],
      "text/plain": [
       "       Age Counts  Average Sales by Age  Sums by Age\n",
       "10-14          28              2.956429        82.78\n",
       "15-19         136              3.035956       412.89\n",
       "20-24         365              3.052219      1114.06\n",
       "25-29         101              2.900990       293.00\n",
       "30-34          73              2.931507       214.00"
      ]
     },
     "execution_count": 28,
     "metadata": {},
     "output_type": "execute_result"
    }
   ],
   "source": [
    "purchase_df[\"Age Group\"] = pd.cut(purchase_df[\"Age\"], age_bins, labels=group_names)\n",
    "Age_Groups = purchase_df.groupby(\"Age Group\")\n",
    "\n",
    "Age_Counts = purchase_df[\"Age Group\"].value_counts()\n",
    "Sales_Age_Sum = Age_Groups[\"Price\"].sum()\n",
    "Average_Sales_Age = Age_Groups[\"Price\"].mean()\n",
    "#Normalized_Group = Sales_Age_Sum/Age_Counts\n",
    "\n",
    "Summary = pd.DataFrame({\n",
    "    \"Age Counts\": Age_Counts,\n",
    "    \"Sums by Age\": Sales_Age_Sum,\n",
    "    \"Average Sales by Age\": Average_Sales_Age,\n",
    "    #\"Normalized Purchase Price\": Normalized_Group\n",
    "    \n",
    "})\n",
    "\n",
    "Summary.head()"
   ]
  },
  {
   "cell_type": "markdown",
   "metadata": {},
   "source": [
    "## Top Spenders"
   ]
  },
  {
   "cell_type": "markdown",
   "metadata": {},
   "source": [
    "* Run basic calculations to obtain the results in the table below\n",
    "\n",
    "\n",
    "* Create a summary data frame to hold the results\n",
    "\n",
    "\n",
    "* Sort the total purchase value column in descending order\n",
    "\n",
    "\n",
    "* Optional: give the displayed data cleaner formatting\n",
    "\n",
    "\n",
    "* Display a preview of the summary data frame\n",
    "\n"
   ]
  },
  {
   "cell_type": "code",
   "execution_count": 42,
   "metadata": {},
   "outputs": [
    {
     "name": "stdout",
     "output_type": "stream",
     "text": [
      "<pandas.core.groupby.DataFrameGroupBy object at 0x1114e5908>\n"
     ]
    },
    {
     "data": {
      "text/plain": [
       "<bound method NDFrame.head of                Average prices  Total prices  Totals count\n",
       "SN                                                       \n",
       "Lisosia93            3.792000         18.96             5\n",
       "Idastidru52          3.862500         15.45             4\n",
       "Chamjask73           4.610000         13.83             3\n",
       "Iral74               3.405000         13.62             4\n",
       "Iskadarya95          4.366667         13.10             3\n",
       "Ilarin91             4.233333         12.70             3\n",
       "Ialallo29            3.946667         11.84             3\n",
       "Tyidaim51            3.943333         11.83             3\n",
       "Lassilsala30         3.836667         11.51             3\n",
       "Chadolyla44          3.820000         11.46             3\n",
       "Iri67                3.790000         11.37             3\n",
       "Inguron55            3.703333         11.11             3\n",
       "Siallylis44          3.456667         10.37             3\n",
       "Saistyphos30         3.443333         10.33             3\n",
       "Phyali88             3.433333         10.30             3\n",
       "Strithenu87          3.393333         10.18             3\n",
       "Lisim78              3.340000         10.02             3\n",
       "Haillyrgue51         3.166667          9.50             3\n",
       "Phistym51            4.750000          9.50             2\n",
       "Lamil79              4.645000          9.29             2\n",
       "Aina42               3.073333          9.22             3\n",
       "Saesrideu94          4.590000          9.18             2\n",
       "Arin32               4.545000          9.09             2\n",
       "Rarallo90            3.016667          9.05             3\n",
       "Baelollodeu94        4.515000          9.03             2\n",
       "Aelin32              2.993333          8.98             3\n",
       "Lisopela58           2.953333          8.86             3\n",
       "Saedaiphos46         2.943333          8.83             3\n",
       "Reunasu60            4.410000          8.82             2\n",
       "Chanastnya43         2.940000          8.82             3\n",
       "...                       ...           ...           ...\n",
       "Lirtim36             1.330000          1.33             1\n",
       "Shidai42             1.330000          1.33             1\n",
       "Philodil43           1.290000          1.29             1\n",
       "Eyista89             1.290000          1.29             1\n",
       "Mindilsa60           1.280000          1.28             1\n",
       "Tyarithn67           1.140000          1.14             1\n",
       "Aisur51              1.140000          1.14             1\n",
       "Ilista82             1.140000          1.14             1\n",
       "Jiskimsda56          1.140000          1.14             1\n",
       "Aillyriadru65        1.100000          1.10             1\n",
       "Eryon48              1.100000          1.10             1\n",
       "Iduelis31            1.100000          1.10             1\n",
       "Yasur85              1.100000          1.10             1\n",
       "Undjask33            1.100000          1.10             1\n",
       "Lirtassa52           1.090000          1.09             1\n",
       "Aelidru27            1.090000          1.09             1\n",
       "Yalaeria91           1.060000          1.06             1\n",
       "Aesurstilis64        1.030000          1.03             1\n",
       "Saida58              1.030000          1.03             1\n",
       "Euthe35              1.030000          1.03             1\n",
       "Hala31               1.020000          1.02             1\n",
       "Qilalista41          1.020000          1.02             1\n",
       "Frichjaskan98        1.020000          1.02             1\n",
       "Isurria36            1.020000          1.02             1\n",
       "Eudanu84             1.020000          1.02             1\n",
       "Ililsasya43          1.020000          1.02             1\n",
       "Irilis75             1.020000          1.02             1\n",
       "Aidai61              1.010000          1.01             1\n",
       "Chanirra79           1.010000          1.01             1\n",
       "Alo38                1.000000          1.00             1\n",
       "\n",
       "[576 rows x 3 columns]>"
      ]
     },
     "execution_count": 42,
     "metadata": {},
     "output_type": "execute_result"
    }
   ],
   "source": [
    "Groups_df = purchase_df.groupby([\"SN\"])\n",
    "print(Groups_df)\n",
    "\n",
    "Totals_count = Groups_df[\"SN\"].count()\n",
    "Total_prices = Groups_df[\"Price\"].sum()\n",
    "Average_prices = Groups_df[\"Price\"].mean()\n",
    "\n",
    "Sum_Table = pd.DataFrame({\"Totals count\": Totals_count,\n",
    "    \"Total prices\": Total_prices,\n",
    "    \"Average prices\": Average_prices})\n",
    "\n",
    "Sum_Table = Sum_Table.sort_values(['Total prices'], ascending=False)\n",
    "Sum_Table.head"
   ]
  },
  {
   "cell_type": "markdown",
   "metadata": {},
   "source": [
    "## Most Popular Items"
   ]
  },
  {
   "cell_type": "markdown",
   "metadata": {},
   "source": [
    "* Retrieve the Item ID, Item Name, and Item Price columns\n",
    "\n",
    "\n",
    "* Group by Item ID and Item Name. Perform calculations to obtain purchase count, item price, and total purchase value\n",
    "\n",
    "\n",
    "* Create a summary data frame to hold the results\n",
    "\n",
    "\n",
    "* Sort the purchase count column in descending order\n",
    "\n",
    "\n",
    "* Optional: give the displayed data cleaner formatting\n",
    "\n",
    "\n",
    "* Display a preview of the summary data frame\n",
    "\n"
   ]
  },
  {
   "cell_type": "code",
   "execution_count": 44,
   "metadata": {},
   "outputs": [
    {
     "name": "stdout",
     "output_type": "stream",
     "text": [
      "<pandas.core.groupby.DataFrameGroupBy object at 0x1114e5be0>\n"
     ]
    },
    {
     "data": {
      "text/html": [
       "<div>\n",
       "<style scoped>\n",
       "    .dataframe tbody tr th:only-of-type {\n",
       "        vertical-align: middle;\n",
       "    }\n",
       "\n",
       "    .dataframe tbody tr th {\n",
       "        vertical-align: top;\n",
       "    }\n",
       "\n",
       "    .dataframe thead th {\n",
       "        text-align: right;\n",
       "    }\n",
       "</style>\n",
       "<table border=\"1\" class=\"dataframe\">\n",
       "  <thead>\n",
       "    <tr style=\"text-align: right;\">\n",
       "      <th></th>\n",
       "      <th>Item Count</th>\n",
       "      <th>Item Price</th>\n",
       "      <th>Total Price</th>\n",
       "    </tr>\n",
       "    <tr>\n",
       "      <th>Item ID</th>\n",
       "      <th></th>\n",
       "      <th></th>\n",
       "      <th></th>\n",
       "    </tr>\n",
       "  </thead>\n",
       "  <tbody>\n",
       "    <tr>\n",
       "      <th>178</th>\n",
       "      <td>12</td>\n",
       "      <td>0.236407</td>\n",
       "      <td>50.76</td>\n",
       "    </tr>\n",
       "    <tr>\n",
       "      <th>145</th>\n",
       "      <td>9</td>\n",
       "      <td>0.218341</td>\n",
       "      <td>41.22</td>\n",
       "    </tr>\n",
       "    <tr>\n",
       "      <th>108</th>\n",
       "      <td>9</td>\n",
       "      <td>0.283286</td>\n",
       "      <td>31.77</td>\n",
       "    </tr>\n",
       "    <tr>\n",
       "      <th>82</th>\n",
       "      <td>9</td>\n",
       "      <td>0.204082</td>\n",
       "      <td>44.10</td>\n",
       "    </tr>\n",
       "    <tr>\n",
       "      <th>19</th>\n",
       "      <td>8</td>\n",
       "      <td>0.980392</td>\n",
       "      <td>8.16</td>\n",
       "    </tr>\n",
       "  </tbody>\n",
       "</table>\n",
       "</div>"
      ],
      "text/plain": [
       "         Item Count  Item Price  Total Price\n",
       "Item ID                                     \n",
       "178              12    0.236407        50.76\n",
       "145               9    0.218341        41.22\n",
       "108               9    0.283286        31.77\n",
       "82                9    0.204082        44.10\n",
       "19                8    0.980392         8.16"
      ]
     },
     "execution_count": 44,
     "metadata": {},
     "output_type": "execute_result"
    }
   ],
   "source": [
    "group = purchase_df.groupby([\"Item ID\"])\n",
    "print(group)\n",
    "\n",
    "Item_count = group[\"Item ID\"].count()\n",
    "Item_name =  group[\"Price\"].sum()\n",
    "Item_price = Item_count / Item_name\n",
    "\n",
    "summary_tab = pd.DataFrame({\"Item Count\": Item_count,\n",
    "                            \"Item Price\":Item_price,\n",
    "                             \"Total Price\": Item_name })\n",
    "                          \n",
    "summary_tab = summary_tab.sort_values([\"Item Count\"], ascending=False)\n",
    "summary_tab.head()"
   ]
  },
  {
   "cell_type": "markdown",
   "metadata": {},
   "source": [
    "## Most Profitable Items"
   ]
  },
  {
   "cell_type": "markdown",
   "metadata": {},
   "source": [
    "* Sort the above table by total purchase value in descending order\n",
    "\n",
    "\n",
    "* Optional: give the displayed data cleaner formatting\n",
    "\n",
    "\n",
    "* Display a preview of the data frame\n",
    "\n"
   ]
  },
  {
   "cell_type": "code",
   "execution_count": 49,
   "metadata": {
    "scrolled": true
   },
   "outputs": [
    {
     "name": "stdout",
     "output_type": "stream",
     "text": [
      "<pandas.core.groupby.DataFrameGroupBy object at 0x1114eeb00>\n"
     ]
    },
    {
     "data": {
      "text/html": [
       "<div>\n",
       "<style scoped>\n",
       "    .dataframe tbody tr th:only-of-type {\n",
       "        vertical-align: middle;\n",
       "    }\n",
       "\n",
       "    .dataframe tbody tr th {\n",
       "        vertical-align: top;\n",
       "    }\n",
       "\n",
       "    .dataframe thead th {\n",
       "        text-align: right;\n",
       "    }\n",
       "</style>\n",
       "<table border=\"1\" class=\"dataframe\">\n",
       "  <thead>\n",
       "    <tr style=\"text-align: right;\">\n",
       "      <th></th>\n",
       "      <th>Item Count</th>\n",
       "      <th>Item Price</th>\n",
       "      <th>Total Price</th>\n",
       "    </tr>\n",
       "    <tr>\n",
       "      <th>Item ID</th>\n",
       "      <th></th>\n",
       "      <th></th>\n",
       "      <th></th>\n",
       "    </tr>\n",
       "  </thead>\n",
       "  <tbody>\n",
       "    <tr>\n",
       "      <th>178</th>\n",
       "      <td>12</td>\n",
       "      <td>0.236407</td>\n",
       "      <td>50.76</td>\n",
       "    </tr>\n",
       "    <tr>\n",
       "      <th>82</th>\n",
       "      <td>9</td>\n",
       "      <td>0.204082</td>\n",
       "      <td>44.10</td>\n",
       "    </tr>\n",
       "    <tr>\n",
       "      <th>145</th>\n",
       "      <td>9</td>\n",
       "      <td>0.218341</td>\n",
       "      <td>41.22</td>\n",
       "    </tr>\n",
       "    <tr>\n",
       "      <th>92</th>\n",
       "      <td>8</td>\n",
       "      <td>0.204918</td>\n",
       "      <td>39.04</td>\n",
       "    </tr>\n",
       "    <tr>\n",
       "      <th>103</th>\n",
       "      <td>8</td>\n",
       "      <td>0.229885</td>\n",
       "      <td>34.80</td>\n",
       "    </tr>\n",
       "  </tbody>\n",
       "</table>\n",
       "</div>"
      ],
      "text/plain": [
       "         Item Count  Item Price  Total Price\n",
       "Item ID                                     \n",
       "178              12    0.236407        50.76\n",
       "82                9    0.204082        44.10\n",
       "145               9    0.218341        41.22\n",
       "92                8    0.204918        39.04\n",
       "103               8    0.229885        34.80"
      ]
     },
     "execution_count": 49,
     "metadata": {},
     "output_type": "execute_result"
    }
   ],
   "source": [
    "group = purchase_df.groupby([\"Item ID\"])\n",
    "print(group)\n",
    "\n",
    "Item_name =  group[\"Price\"].sum()\n",
    "Item_count = group[\"Item ID\"].count()\n",
    "Item_price = Item_count/Item_name\n",
    "\n",
    "summary_tab = pd.DataFrame({\"Total Price\": Item_name,\n",
    "                            \"Item Count\": Item_count,\n",
    "                            \"Item Price\":Item_price\n",
    "                              })\n",
    "                          \n",
    "summary_tab = summary_tab.sort_values([\"Total Price\"], ascending=False)\n",
    "summary_tab.head()"
   ]
  },
  {
   "cell_type": "code",
   "execution_count": null,
   "metadata": {},
   "outputs": [],
   "source": []
  }
 ],
 "metadata": {
  "anaconda-cloud": {},
  "kernel_info": {
   "name": "python3"
  },
  "kernelspec": {
   "display_name": "Python 3",
   "language": "python",
   "name": "python3"
  },
  "language_info": {
   "codemirror_mode": {
    "name": "ipython",
    "version": 3
   },
   "file_extension": ".py",
   "mimetype": "text/x-python",
   "name": "python",
   "nbconvert_exporter": "python",
   "pygments_lexer": "ipython3",
   "version": "3.6.4"
  },
  "nteract": {
   "version": "0.2.0"
  }
 },
 "nbformat": 4,
 "nbformat_minor": 2
}
